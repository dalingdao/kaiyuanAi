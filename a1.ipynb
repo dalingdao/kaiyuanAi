{
 "cells": [
  {
   "cell_type": "code",
   "execution_count": 3,
   "id": "0dbc58e2-a852-4bb7-8b7b-d5ae7aa8bcf7",
   "metadata": {
    "execution": {
     "iopub.execute_input": "2025-03-15T06:57:47.929009Z",
     "iopub.status.busy": "2025-03-15T06:57:47.928679Z",
     "iopub.status.idle": "2025-03-15T06:57:52.463310Z",
     "shell.execute_reply": "2025-03-15T06:57:52.462604Z",
     "shell.execute_reply.started": "2025-03-15T06:57:47.928989Z"
    },
    "tags": []
   },
   "outputs": [
    {
     "name": "stdout",
     "output_type": "stream",
     "text": [
      "2025-03-15 14:57:51,352 - __main__ - INFO - Script started\n",
      "Traceback (most recent call last):\n",
      "  File \"/mnt/workspace/kaiyuanAi/main.py\", line 311, in <module>\n",
      "    main()\n",
      "  File \"/mnt/workspace/kaiyuanAi/main.py\", line 262, in main\n",
      "    trainer = ModelTrainer()\n",
      "  File \"/mnt/workspace/kaiyuanAi/main.py\", line 78, in __init__\n",
      "    self.policy_model = AutoModelForCausalLM.from_pretrained(\n",
      "  File \"/usr/local/lib/python3.10/site-packages/transformers/models/auto/auto_factory.py\", line 564, in from_pretrained\n",
      "    return model_class.from_pretrained(\n",
      "  File \"/usr/local/lib/python3.10/site-packages/transformers/modeling_utils.py\", line 4111, in from_pretrained\n",
      "    model = cls(config, *model_args, **model_kwargs)\n",
      "TypeError: Qwen2ForCausalLM.__init__() got an unexpected keyword argument 'attention_mask'\n"
     ]
    }
   ],
   "source": [
    "!python main.py"
   ]
  }
 ],
 "metadata": {
  "kernelspec": {
   "display_name": "Python 3 (ipykernel)",
   "language": "python",
   "name": "python3"
  },
  "language_info": {
   "codemirror_mode": {
    "name": "ipython",
    "version": 3
   },
   "file_extension": ".py",
   "mimetype": "text/x-python",
   "name": "python",
   "nbconvert_exporter": "python",
   "pygments_lexer": "ipython3",
   "version": "3.10.14"
  }
 },
 "nbformat": 4,
 "nbformat_minor": 5
}
